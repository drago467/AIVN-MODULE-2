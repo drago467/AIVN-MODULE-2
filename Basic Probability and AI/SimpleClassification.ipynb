{
  "cells": [
    {
      "cell_type": "markdown",
      "metadata": {
        "id": "view-in-github",
        "colab_type": "text"
      },
      "source": [
        "<a href=\"https://colab.research.google.com/github/drago467/AIVN-MODULE-2/blob/main/Basic%20Probability%20and%20AI/SimpleClassification.ipynb\" target=\"_parent\"><img src=\"https://colab.research.google.com/assets/colab-badge.svg\" alt=\"Open In Colab\"/></a>"
      ]
    },
    {
      "cell_type": "markdown",
      "id": "f697aea6",
      "metadata": {
        "id": "f697aea6"
      },
      "source": [
        "## Simple Classification"
      ]
    },
    {
      "cell_type": "code",
      "execution_count": null,
      "id": "1e7ced2c",
      "metadata": {
        "id": "1e7ced2c"
      },
      "outputs": [],
      "source": [
        "import numpy as np\n",
        "from sklearn.naive_bayes import BernoulliNB\n",
        "\n",
        "# Data: Studied (1 for Yes, 0 for No) and Result (1 for Pass, 0 for Fail)\n",
        "X = np.array([[0], [0], [1], [1], [1], [0]])\n",
        "y = np.array([0, 1, 0, 1, 1, 0])\n",
        "\n",
        "# Create and train the model\n",
        "model = BernoulliNB()\n",
        "model.fit(X, y)\n",
        "\n",
        "# Predict the result for a student who studied\n",
        "new_data = np.array([[1]])\n",
        "prediction = model.predict(new_data)\n",
        "prediction_proba = model.predict_proba(new_data)"
      ]
    },
    {
      "cell_type": "code",
      "execution_count": null,
      "id": "13b62a63",
      "metadata": {
        "id": "13b62a63",
        "outputId": "70dacc89-14ba-410d-9f0a-be0bf2fff9af"
      },
      "outputs": [
        {
          "data": {
            "text/plain": [
              "array([1])"
            ]
          },
          "execution_count": 8,
          "metadata": {},
          "output_type": "execute_result"
        }
      ],
      "source": [
        "prediction"
      ]
    },
    {
      "cell_type": "code",
      "execution_count": null,
      "id": "b6712900",
      "metadata": {
        "id": "b6712900",
        "outputId": "10b8fcea-a1be-4e00-f831-66add1bdcbef"
      },
      "outputs": [
        {
          "data": {
            "text/plain": [
              "array([[0.4, 0.6]])"
            ]
          },
          "execution_count": 9,
          "metadata": {},
          "output_type": "execute_result"
        }
      ],
      "source": [
        "prediction_proba"
      ]
    },
    {
      "cell_type": "code",
      "execution_count": null,
      "id": "b8192bb1",
      "metadata": {
        "id": "b8192bb1"
      },
      "outputs": [],
      "source": []
    },
    {
      "cell_type": "code",
      "execution_count": null,
      "id": "f131a97a",
      "metadata": {
        "id": "f131a97a",
        "outputId": "ce0f65b4-b695-4a8e-9e57-064f8f809ad0"
      },
      "outputs": [
        {
          "data": {
            "text/plain": [
              "array([0.5, 0.5])"
            ]
          },
          "execution_count": 11,
          "metadata": {},
          "output_type": "execute_result"
        }
      ],
      "source": [
        "np.exp(model.class_log_prior_)"
      ]
    },
    {
      "cell_type": "code",
      "execution_count": null,
      "id": "1926fe1b",
      "metadata": {
        "id": "1926fe1b",
        "outputId": "7eed984e-c673-4d37-ef5b-a3a2bf53d58e"
      },
      "outputs": [
        {
          "data": {
            "text/plain": [
              "array([[0.4],\n",
              "       [0.6]])"
            ]
          },
          "execution_count": 13,
          "metadata": {},
          "output_type": "execute_result"
        }
      ],
      "source": [
        "# Empirical log probability of features given a class, P(x_i|y)\n",
        "np.exp(model.feature_log_prob_)"
      ]
    },
    {
      "cell_type": "code",
      "execution_count": null,
      "id": "0fdeddd5",
      "metadata": {
        "id": "0fdeddd5"
      },
      "outputs": [],
      "source": []
    }
  ],
  "metadata": {
    "kernelspec": {
      "display_name": "Python 3 (ipykernel)",
      "language": "python",
      "name": "python3"
    },
    "language_info": {
      "codemirror_mode": {
        "name": "ipython",
        "version": 3
      },
      "file_extension": ".py",
      "mimetype": "text/x-python",
      "name": "python",
      "nbconvert_exporter": "python",
      "pygments_lexer": "ipython3",
      "version": "3.12.4"
    },
    "colab": {
      "provenance": [],
      "include_colab_link": true
    }
  },
  "nbformat": 4,
  "nbformat_minor": 5
}