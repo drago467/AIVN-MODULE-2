{
  "cells": [
    {
      "cell_type": "markdown",
      "metadata": {
        "id": "view-in-github",
        "colab_type": "text"
      },
      "source": [
        "<a href=\"https://colab.research.google.com/github/drago467/AIVN-MODULE-2/blob/main/Basic%20Statistics%20and%20Correlation%20Coefficient%20(Basic%20Tracking)/Median.ipynb\" target=\"_parent\"><img src=\"https://colab.research.google.com/assets/colab-badge.svg\" alt=\"Open In Colab\"/></a>"
      ]
    },
    {
      "cell_type": "code",
      "execution_count": null,
      "metadata": {
        "id": "z6gaRDEjRX6X",
        "outputId": "67e1119c-1090-4ed4-b4fa-5fb1892295cf"
      },
      "outputs": [
        {
          "name": "stderr",
          "output_type": "stream",
          "text": [
            "C:\\installed\\lib\\site-packages\\ipykernel_launcher.py:16: FutureWarning: Using a non-tuple sequence for multidimensional indexing is deprecated; use `arr[tuple(seq)]` instead of `arr[seq]`. In the future this will be interpreted as an array index, `arr[np.array(seq)]`, which will result either in an error or a different result.\n",
            "  app.launch_new_instance()\n",
            "C:\\installed\\lib\\site-packages\\ipykernel_launcher.py:21: FutureWarning: Using a non-tuple sequence for multidimensional indexing is deprecated; use `arr[tuple(seq)]` instead of `arr[seq]`. In the future this will be interpreted as an array index, `arr[np.array(seq)]`, which will result either in an error or a different result.\n"
          ]
        },
        {
          "data": {
            "text/plain": [
              "True"
            ]
          },
          "execution_count": 3,
          "metadata": {},
          "output_type": "execute_result"
        }
      ],
      "source": [
        "# add noise\n",
        "\n",
        "import numpy as np\n",
        "import cv2\n",
        "\n",
        "image = cv2.imread('mrbean.jpg')\n",
        "\n",
        "row,col,ch = image.shape\n",
        "s_vs_p = 0.5\n",
        "amount = 0.009\n",
        "out = np.copy(image)\n",
        "# Salt mode\n",
        "num_salt = np.ceil(amount * image.size * s_vs_p)\n",
        "coords = [np.random.randint(0, i - 1, int(num_salt))\n",
        "      for i in image.shape]\n",
        "out[coords] = 1\n",
        "\n",
        "# Pepper mode\n",
        "num_pepper = np.ceil(amount* image.size * (1. - s_vs_p))\n",
        "coords = [np.random.randint(0, i - 1, int(num_pepper)) for i in image.shape]\n",
        "out[coords] = 0\n",
        "\n",
        "#out = cv2.cvtColor(out, cv2.COLOR_BGR2GRAY)\n",
        "cv2.imwrite('mrbean_noise.jpg', out)"
      ]
    },
    {
      "cell_type": "code",
      "execution_count": null,
      "metadata": {
        "id": "zNwmwv7-RX6h"
      },
      "outputs": [],
      "source": []
    },
    {
      "cell_type": "code",
      "execution_count": null,
      "metadata": {
        "id": "AdIqcq95RX6i"
      },
      "outputs": [],
      "source": []
    },
    {
      "cell_type": "code",
      "execution_count": null,
      "metadata": {
        "id": "GmOCGOzeRX6i"
      },
      "outputs": [],
      "source": []
    },
    {
      "cell_type": "code",
      "execution_count": null,
      "metadata": {
        "id": "LgovEibXRX6j"
      },
      "outputs": [],
      "source": [
        "import numpy as np\n",
        "import cv2\n",
        "\n",
        "img1 = cv2.imread('mrbean_noise.jpg')\n",
        "img2 = cv2.medianBlur(img1, 3)\n",
        "\n",
        "# show images\n",
        "cv2.imshow('img1', img1)\n",
        "cv2.imshow('img2', img2)\n",
        "\n",
        "# waiting for any keys pressed and close windows\n",
        "cv2.waitKey(0)\n",
        "cv2.destroyAllWindows()"
      ]
    },
    {
      "cell_type": "code",
      "execution_count": null,
      "metadata": {
        "id": "Xk3WgmxQRX6k"
      },
      "outputs": [],
      "source": []
    }
  ],
  "metadata": {
    "kernelspec": {
      "display_name": "Python 3 (ipykernel)",
      "language": "python",
      "name": "python3"
    },
    "language_info": {
      "codemirror_mode": {
        "name": "ipython",
        "version": 3
      },
      "file_extension": ".py",
      "mimetype": "text/x-python",
      "name": "python",
      "nbconvert_exporter": "python",
      "pygments_lexer": "ipython3",
      "version": "3.9.12"
    },
    "colab": {
      "provenance": [],
      "include_colab_link": true
    }
  },
  "nbformat": 4,
  "nbformat_minor": 0
}