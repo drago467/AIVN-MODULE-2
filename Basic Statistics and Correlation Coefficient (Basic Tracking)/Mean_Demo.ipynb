{
  "cells": [
    {
      "cell_type": "markdown",
      "metadata": {
        "id": "view-in-github",
        "colab_type": "text"
      },
      "source": [
        "<a href=\"https://colab.research.google.com/github/drago467/AIVN-MODULE-2/blob/main/Basic%20Statistics%20and%20Correlation%20Coefficient%20(Basic%20Tracking)/Mean_Demo.ipynb\" target=\"_parent\"><img src=\"https://colab.research.google.com/assets/colab-badge.svg\" alt=\"Open In Colab\"/></a>"
      ]
    },
    {
      "cell_type": "code",
      "execution_count": null,
      "metadata": {
        "id": "2zxsT6TdRVlv"
      },
      "outputs": [],
      "source": [
        "import cv2\n",
        "import numpy as np\n",
        "\n",
        "# Load the cascade\n",
        "face_cascade = cv2.CascadeClassifier('haarcascade_frontalface_default.xml')\n",
        "\n",
        "# To capture video from webcam.\n",
        "cap = cv2.VideoCapture(0)\n",
        "\n",
        "# create kernel\n",
        "kernel = np.ones((9,9), np.float32) / 81.0\n",
        "pad = 1\n",
        "\n",
        "while True:\n",
        "    # Read the frame\n",
        "    _, img = cap.read()\n",
        "    img2 = img.copy()\n",
        "\n",
        "    # Convert to grayscale\n",
        "    gray = cv2.cvtColor(img, cv2.COLOR_BGR2GRAY)\n",
        "\n",
        "    # Detect the faces\n",
        "    faces = face_cascade.detectMultiScale(gray, 1.1, 4)\n",
        "\n",
        "    # Draw the rectangle around each face\n",
        "    for (x, y, w, h) in faces:\n",
        "        # Select ROI (top_y,top_x,height, width)\n",
        "        roi = img[y-pad:y+h+pad,x-pad:x+w+pad]  # boundary\n",
        "\n",
        "        # compute mean for each pixel\n",
        "        roi = cv2.filter2D(roi, cv2.CV_8U, kernel)\n",
        "        roi = cv2.filter2D(roi, cv2.CV_8U, kernel)\n",
        "        roi = cv2.filter2D(roi, cv2.CV_8U, kernel)\n",
        "\n",
        "        # update\n",
        "        img[y-pad:y+h+pad,x-pad:x+w+pad] = roi  # boundary\n",
        "\n",
        "    # Display\n",
        "    cv2.imshow('img', img)\n",
        "    cv2.imshow('img2', img2)\n",
        "\n",
        "    # Stop if escape key is pressed\n",
        "    key = cv2.waitKey(30) & 0xff\n",
        "    if key==27:\n",
        "        break\n",
        "\n",
        "# Release the VideoCapture object\n",
        "cap.release()\n",
        "cv2.destroyAllWindows()"
      ]
    },
    {
      "cell_type": "code",
      "execution_count": null,
      "metadata": {
        "id": "xKgUdgc3RVl5"
      },
      "outputs": [],
      "source": []
    },
    {
      "cell_type": "code",
      "execution_count": null,
      "metadata": {
        "id": "sO-nl5JKRVl6"
      },
      "outputs": [],
      "source": [
        "import cv2\n",
        "import numpy as np\n",
        "\n",
        "# To capture video from webcam.\n",
        "cap = cv2.VideoCapture(0)\n",
        "\n",
        "# select region\n",
        "while True:\n",
        "    # Read the frame and Convert to grayscale\n",
        "    _, img = cap.read()\n",
        "    gray = cv2.cvtColor(img, cv2.COLOR_BGR2GRAY)\n",
        "\n",
        "    top_left = (200,300)\n",
        "    bottom_right = (400,400)\n",
        "    cv2.rectangle(img, top_left, bottom_right, (0, 255, 0), 2)\n",
        "\n",
        "\n",
        "    # Display\n",
        "    cv2.imshow('img', img)\n",
        "\n",
        "    # Stop if escape key is pressed\n",
        "    if cv2.waitKey(33) == ord('a'):\n",
        "        break\n",
        "\n",
        "template = gray[300:400, 200:400]\n",
        "w, h = template.shape[::-1]\n",
        "cv2.imshow('template', template)\n",
        "cv2.waitKey(0)\n",
        "\n",
        "while True:\n",
        "    # Read the frame and Convert to grayscale\n",
        "    _, img = cap.read()\n",
        "    gray = cv2.cvtColor(img, cv2.COLOR_BGR2GRAY)\n",
        "\n",
        "    corr_map = cv2.matchTemplate(gray, template, cv2.TM_CCOEFF_NORMED)\n",
        "    min_val, max_val, min_loc, max_loc = cv2.minMaxLoc(corr_map)\n",
        "\n",
        "    # take minimum\n",
        "    top_left = max_loc\n",
        "    bottom_right = (top_left[0] + w, top_left[1] + h)\n",
        "\n",
        "    # draw\n",
        "    cv2.rectangle(img, top_left, bottom_right, (0, 255, 0), 2)\n",
        "\n",
        "\n",
        "    # Display\n",
        "    cv2.imshow('img', img)\n",
        "\n",
        "    # Stop if escape key is pressed\n",
        "    if cv2.waitKey(33) == ord('a'):\n",
        "        break\n",
        "\n",
        "# Release the VideoCapture object\n",
        "cap.release()\n",
        "cv2.destroyAllWindows()"
      ]
    },
    {
      "cell_type": "code",
      "execution_count": null,
      "metadata": {
        "id": "ys7UJvLzRVl7"
      },
      "outputs": [],
      "source": [
        ""
      ]
    }
  ],
  "metadata": {
    "kernelspec": {
      "display_name": "Python 3 (ipykernel)",
      "language": "python",
      "name": "python3"
    },
    "language_info": {
      "codemirror_mode": {
        "name": "ipython",
        "version": 3
      },
      "file_extension": ".py",
      "mimetype": "text/x-python",
      "name": "python",
      "nbconvert_exporter": "python",
      "pygments_lexer": "ipython3",
      "version": "3.9.12"
    },
    "colab": {
      "provenance": [],
      "include_colab_link": true
    }
  },
  "nbformat": 4,
  "nbformat_minor": 0
}