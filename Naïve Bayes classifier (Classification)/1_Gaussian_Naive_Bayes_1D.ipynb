{
  "cells": [
    {
      "cell_type": "markdown",
      "metadata": {
        "id": "view-in-github",
        "colab_type": "text"
      },
      "source": [
        "<a href=\"https://colab.research.google.com/github/drago467/AIVN-MODULE-2/blob/main/Na%C3%AFve%20Bayes%20classifier%20(Classification)/1_Gaussian_Naive_Bayes_1D.ipynb\" target=\"_parent\"><img src=\"https://colab.research.google.com/assets/colab-badge.svg\" alt=\"Open In Colab\"/></a>"
      ]
    },
    {
      "cell_type": "markdown",
      "id": "6a705c99",
      "metadata": {
        "id": "6a705c99"
      },
      "source": [
        "## Gaussian Naive Bayes"
      ]
    },
    {
      "cell_type": "code",
      "execution_count": null,
      "id": "69e1e111",
      "metadata": {
        "id": "69e1e111"
      },
      "outputs": [],
      "source": [
        "from sklearn.metrics import confusion_matrix\n",
        "from sklearn.metrics import classification_report\n",
        "from sklearn.model_selection import train_test_split\n",
        "\n",
        "import pandas as pd\n",
        "\n",
        "iris = pd.read_csv('iris_1D.csv')\n",
        "\n",
        "# Seperating the data into dependent and independent variables\n",
        "X_train = iris.iloc[:, :-1].values\n",
        "y_train = iris.iloc[:, -1].values"
      ]
    },
    {
      "cell_type": "code",
      "execution_count": null,
      "id": "132298da",
      "metadata": {
        "id": "132298da",
        "outputId": "8eb38cc4-f8fe-4638-d6a5-24fef758c955"
      },
      "outputs": [
        {
          "data": {
            "text/plain": [
              "array([1.4, 1. , 1.3, 1.9, 2. , 3.8, 4.1, 3.9, 4.2, 3.4])"
            ]
          },
          "execution_count": 4,
          "metadata": {},
          "output_type": "execute_result"
        }
      ],
      "source": [
        "X_train[:,0]"
      ]
    },
    {
      "cell_type": "code",
      "execution_count": null,
      "id": "abdda8ad",
      "metadata": {
        "id": "abdda8ad",
        "outputId": "b087f8da-a54d-4225-d03f-c005abd8f15f"
      },
      "outputs": [
        {
          "data": {
            "text/plain": [
              "array([0., 0., 0., 0., 0., 1., 1., 1., 1., 1.])"
            ]
          },
          "execution_count": 5,
          "metadata": {},
          "output_type": "execute_result"
        }
      ],
      "source": [
        "y_train"
      ]
    },
    {
      "cell_type": "code",
      "execution_count": null,
      "id": "016ef455",
      "metadata": {
        "id": "016ef455"
      },
      "outputs": [],
      "source": []
    },
    {
      "cell_type": "code",
      "execution_count": null,
      "id": "35da4b5d",
      "metadata": {
        "id": "35da4b5d"
      },
      "outputs": [],
      "source": [
        "from sklearn.naive_bayes import GaussianNB\n",
        "import numpy as np\n",
        "\n",
        "classifier = GaussianNB()\n",
        "clf = classifier.fit(X_train, y_train)"
      ]
    },
    {
      "cell_type": "code",
      "execution_count": null,
      "id": "1a061b50",
      "metadata": {
        "id": "1a061b50",
        "outputId": "e733e487-5487-4c52-a722-9c7e5a097043"
      },
      "outputs": [
        {
          "data": {
            "text/plain": [
              "array([[0.0454125, 0.9545875]])"
            ]
          },
          "execution_count": 19,
          "metadata": {},
          "output_type": "execute_result"
        }
      ],
      "source": [
        "# predict\n",
        "x_test = np.array([[3.0]])\n",
        "clf.predict_proba(x_test)"
      ]
    },
    {
      "cell_type": "code",
      "execution_count": null,
      "id": "69080bb5",
      "metadata": {
        "id": "69080bb5"
      },
      "outputs": [],
      "source": []
    },
    {
      "cell_type": "code",
      "execution_count": null,
      "id": "2c728ed0",
      "metadata": {
        "id": "2c728ed0",
        "outputId": "e606efc2-0895-484d-df37-291a166600b2"
      },
      "outputs": [
        {
          "data": {
            "text/plain": [
              "array([5., 5.])"
            ]
          },
          "execution_count": 9,
          "metadata": {},
          "output_type": "execute_result"
        }
      ],
      "source": [
        "clf.class_count_"
      ]
    },
    {
      "cell_type": "code",
      "execution_count": null,
      "id": "e071f79b",
      "metadata": {
        "id": "e071f79b",
        "outputId": "0644e920-d269-437e-ab50-4c06fa2b6be7"
      },
      "outputs": [
        {
          "data": {
            "text/plain": [
              "array([0.5, 0.5])"
            ]
          },
          "execution_count": 10,
          "metadata": {},
          "output_type": "execute_result"
        }
      ],
      "source": [
        "clf.class_prior_"
      ]
    },
    {
      "cell_type": "code",
      "execution_count": null,
      "id": "66bed4d1",
      "metadata": {
        "id": "66bed4d1",
        "outputId": "0cadd1da-6363-4ffa-d850-e267ae3303c3"
      },
      "outputs": [
        {
          "data": {
            "text/plain": [
              "array([0., 1.])"
            ]
          },
          "execution_count": 11,
          "metadata": {},
          "output_type": "execute_result"
        }
      ],
      "source": [
        "clf.classes_"
      ]
    },
    {
      "cell_type": "code",
      "execution_count": null,
      "id": "dc5f3c68",
      "metadata": {
        "id": "dc5f3c68",
        "outputId": "d41e7900-7753-41e3-9b95-614147d25050"
      },
      "outputs": [
        {
          "data": {
            "text/plain": [
              "array([[0.1416],\n",
              "       [0.0776]])"
            ]
          },
          "execution_count": 13,
          "metadata": {},
          "output_type": "execute_result"
        }
      ],
      "source": [
        "clf.var_"
      ]
    },
    {
      "cell_type": "code",
      "execution_count": null,
      "id": "53dfcb0b",
      "metadata": {
        "id": "53dfcb0b",
        "outputId": "d7a3dff5-d0fb-4fc2-f3c5-e6ef04a136b2"
      },
      "outputs": [
        {
          "data": {
            "text/plain": [
              "array([[1.52],\n",
              "       [3.88]])"
            ]
          },
          "execution_count": 14,
          "metadata": {},
          "output_type": "execute_result"
        }
      ],
      "source": [
        "clf.theta_"
      ]
    },
    {
      "cell_type": "code",
      "execution_count": null,
      "id": "68d80665",
      "metadata": {
        "id": "68d80665"
      },
      "outputs": [],
      "source": []
    },
    {
      "cell_type": "markdown",
      "id": "4bf03db1",
      "metadata": {
        "id": "4bf03db1"
      },
      "source": [
        "## Compute manually"
      ]
    },
    {
      "cell_type": "code",
      "execution_count": null,
      "id": "68b060de",
      "metadata": {
        "id": "68b060de"
      },
      "outputs": [],
      "source": [
        "import math\n",
        "import numpy as np\n",
        "\n",
        "def gaussian_function(data, mean, var):\n",
        "    return (1.0/np.sqrt(2*math.pi*var)) * np.exp(-(data-mean)**2 / (2*var))"
      ]
    },
    {
      "cell_type": "code",
      "execution_count": null,
      "id": "beb2c6c7",
      "metadata": {
        "id": "beb2c6c7"
      },
      "outputs": [],
      "source": [
        "# compute Gaussian for group 1\n",
        "data_c0 = np.array([1.4, 1.0, 1.3, 1.9, 2.0])\n",
        "mean_c0 = data_c0.mean()\n",
        "var_c0  = data_c0.var()"
      ]
    },
    {
      "cell_type": "code",
      "execution_count": null,
      "id": "1cf07d38",
      "metadata": {
        "id": "1cf07d38"
      },
      "outputs": [],
      "source": [
        "# compute Gaussian for group 2\n",
        "data_c1 = np.array([3.8, 4.1, 3.9, 4.2, 3.4])\n",
        "mean_c1 = data_c1.mean()\n",
        "var_c1  = data_c1.var()\n",
        "prob_c1 = gaussian_function(data_c1, mean_c1, var_c1)"
      ]
    },
    {
      "cell_type": "code",
      "execution_count": null,
      "id": "ad586b22",
      "metadata": {
        "id": "ad586b22"
      },
      "outputs": [],
      "source": []
    },
    {
      "cell_type": "code",
      "execution_count": null,
      "id": "6b484006",
      "metadata": {
        "id": "6b484006",
        "outputId": "4adc4935-3fa8-4324-94ce-6f2f617517ae"
      },
      "outputs": [
        {
          "name": "stdout",
          "output_type": "stream",
          "text": [
            "[[0.00510668]]\n",
            "[[0.0454125]]\n",
            "[[0.9545875]]\n"
          ]
        }
      ],
      "source": [
        "# predict manually\n",
        "x_test = np.array([[3.0]])\n",
        "pdf_c0_x = gaussian_function(x_test, mean_c0, var_c0)\n",
        "pdf_c1_x = gaussian_function(x_test, mean_c1, var_c1)\n",
        "\n",
        "# normalize\n",
        "total = pdf_c0_x*0.5 + pdf_c1_x*0.5\n",
        "\n",
        "pdf_c0_x = pdf_c0_x*0.5/total\n",
        "pdf_c1_x = pdf_c1_x*0.5/total\n",
        "print(pdf_c0_x)\n",
        "print(pdf_c1_x)"
      ]
    },
    {
      "cell_type": "code",
      "execution_count": null,
      "id": "0758e751",
      "metadata": {
        "id": "0758e751"
      },
      "outputs": [],
      "source": []
    }
  ],
  "metadata": {
    "kernelspec": {
      "display_name": "Python 3 (ipykernel)",
      "language": "python",
      "name": "python3"
    },
    "language_info": {
      "codemirror_mode": {
        "name": "ipython",
        "version": 3
      },
      "file_extension": ".py",
      "mimetype": "text/x-python",
      "name": "python",
      "nbconvert_exporter": "python",
      "pygments_lexer": "ipython3",
      "version": "3.11.4"
    },
    "colab": {
      "provenance": [],
      "include_colab_link": true
    }
  },
  "nbformat": 4,
  "nbformat_minor": 5
}