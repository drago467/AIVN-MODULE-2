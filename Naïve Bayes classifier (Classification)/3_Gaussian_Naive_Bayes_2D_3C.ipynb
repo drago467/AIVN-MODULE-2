{
  "cells": [
    {
      "cell_type": "markdown",
      "metadata": {
        "id": "view-in-github",
        "colab_type": "text"
      },
      "source": [
        "<a href=\"https://colab.research.google.com/github/drago467/AIVN-MODULE-2/blob/main/Na%C3%AFve%20Bayes%20classifier%20(Classification)/3_Gaussian_Naive_Bayes_2D_3C.ipynb\" target=\"_parent\"><img src=\"https://colab.research.google.com/assets/colab-badge.svg\" alt=\"Open In Colab\"/></a>"
      ]
    },
    {
      "cell_type": "markdown",
      "id": "6a705c99",
      "metadata": {
        "id": "6a705c99"
      },
      "source": [
        "## Gaussian Naive Bayes"
      ]
    },
    {
      "cell_type": "code",
      "execution_count": null,
      "id": "69e1e111",
      "metadata": {
        "id": "69e1e111"
      },
      "outputs": [],
      "source": [
        "from sklearn.metrics import confusion_matrix\n",
        "from sklearn.metrics import classification_report\n",
        "from sklearn.model_selection import train_test_split\n",
        "\n",
        "import pandas as pd\n",
        "\n",
        "iris = pd.read_csv('iris_2D_3C.csv')\n",
        "\n",
        "# Seperating the data into dependent and independent variables\n",
        "X_train = iris.iloc[:, :-1].values\n",
        "y_train = iris.iloc[:, -1].values"
      ]
    },
    {
      "cell_type": "code",
      "execution_count": null,
      "id": "132298da",
      "metadata": {
        "id": "132298da",
        "outputId": "81443f78-08f9-4671-849a-7ad4ee9d55f0"
      },
      "outputs": [
        {
          "data": {
            "text/plain": [
              "array([[4.9, 3. ],\n",
              "       [4.7, 3.2],\n",
              "       [4.6, 3.1],\n",
              "       [5. , 3.6],\n",
              "       [5.4, 3.9],\n",
              "       [4.6, 3.4],\n",
              "       [6.4, 3.2],\n",
              "       [6.9, 3.1],\n",
              "       [5.5, 2.3],\n",
              "       [6.5, 2.8],\n",
              "       [5.7, 2.8],\n",
              "       [6.3, 3.3],\n",
              "       [5.6, 2.2],\n",
              "       [5.1, 1.5],\n",
              "       [5.6, 1.4],\n",
              "       [5.9, 2.1],\n",
              "       [5.3, 1.8],\n",
              "       [5.7, 1.9]])"
            ]
          },
          "execution_count": 4,
          "metadata": {},
          "output_type": "execute_result"
        }
      ],
      "source": [
        "X_train"
      ]
    },
    {
      "cell_type": "code",
      "execution_count": null,
      "id": "414d1825",
      "metadata": {
        "id": "414d1825",
        "outputId": "58f99731-98e4-4941-e85d-9cf20e2db099"
      },
      "outputs": [
        {
          "data": {
            "text/plain": [
              "array([3. , 3.2, 3.1, 3.6, 3.9, 3.4, 3.2, 3.1, 2.3, 2.8, 2.8, 3.3])"
            ]
          },
          "execution_count": 14,
          "metadata": {},
          "output_type": "execute_result"
        }
      ],
      "source": [
        "X_train[:,1]"
      ]
    },
    {
      "cell_type": "code",
      "execution_count": null,
      "id": "abdda8ad",
      "metadata": {
        "id": "abdda8ad",
        "outputId": "743e9559-9f51-4d62-f65b-d3dc661c36ec"
      },
      "outputs": [
        {
          "data": {
            "text/plain": [
              "array([0, 0, 0, 0, 0, 0, 1, 1, 1, 1, 1, 1, 2, 2, 2, 2, 2, 2], dtype=int64)"
            ]
          },
          "execution_count": 5,
          "metadata": {},
          "output_type": "execute_result"
        }
      ],
      "source": [
        "y_train"
      ]
    },
    {
      "cell_type": "code",
      "execution_count": null,
      "id": "016ef455",
      "metadata": {
        "id": "016ef455"
      },
      "outputs": [],
      "source": []
    },
    {
      "cell_type": "code",
      "execution_count": null,
      "id": "35da4b5d",
      "metadata": {
        "id": "35da4b5d"
      },
      "outputs": [],
      "source": [
        "from sklearn.naive_bayes import GaussianNB\n",
        "import numpy as np\n",
        "\n",
        "classifier = GaussianNB()\n",
        "clf = classifier.fit(X_train, y_train)"
      ]
    },
    {
      "cell_type": "code",
      "execution_count": null,
      "id": "1a061b50",
      "metadata": {
        "id": "1a061b50",
        "outputId": "66a30192-07f7-46ca-9af5-778bd13fd3b2"
      },
      "outputs": [
        {
          "data": {
            "text/plain": [
              "array([[0.0418694 , 0.19180669, 0.76632391]])"
            ]
          },
          "execution_count": 13,
          "metadata": {},
          "output_type": "execute_result"
        }
      ],
      "source": [
        "# predict\n",
        "x_test = np.array([[5.2, 2.4]])\n",
        "clf.predict_proba(x_test)"
      ]
    },
    {
      "cell_type": "code",
      "execution_count": null,
      "id": "69080bb5",
      "metadata": {
        "id": "69080bb5"
      },
      "outputs": [],
      "source": []
    },
    {
      "cell_type": "code",
      "execution_count": null,
      "id": "e071f79b",
      "metadata": {
        "id": "e071f79b",
        "outputId": "45306481-c23b-4fb8-8c07-7532f43b5f9a"
      },
      "outputs": [
        {
          "data": {
            "text/plain": [
              "array([0.33333333, 0.33333333, 0.33333333])"
            ]
          },
          "execution_count": 14,
          "metadata": {},
          "output_type": "execute_result"
        }
      ],
      "source": [
        "clf.class_prior_"
      ]
    },
    {
      "cell_type": "code",
      "execution_count": null,
      "id": "dc5f3c68",
      "metadata": {
        "id": "dc5f3c68",
        "outputId": "addcbf75-775a-4576-8763-5f17a4ee5412"
      },
      "outputs": [
        {
          "data": {
            "text/plain": [
              "array([[0.07888889, 0.09555556],\n",
              "       [0.22805556, 0.11138889],\n",
              "       [0.06888889, 0.08472222]])"
            ]
          },
          "execution_count": 15,
          "metadata": {},
          "output_type": "execute_result"
        }
      ],
      "source": [
        "clf.var_"
      ]
    },
    {
      "cell_type": "code",
      "execution_count": null,
      "id": "53dfcb0b",
      "metadata": {
        "id": "53dfcb0b",
        "outputId": "4857a0b4-ab04-4bca-a0b6-d1066600cfa1"
      },
      "outputs": [
        {
          "data": {
            "text/plain": [
              "array([[4.86666667, 3.36666667],\n",
              "       [6.21666667, 2.91666667],\n",
              "       [5.53333333, 1.81666667]])"
            ]
          },
          "execution_count": 16,
          "metadata": {},
          "output_type": "execute_result"
        }
      ],
      "source": [
        "clf.theta_"
      ]
    },
    {
      "cell_type": "code",
      "execution_count": null,
      "id": "68d80665",
      "metadata": {
        "id": "68d80665"
      },
      "outputs": [],
      "source": []
    }
  ],
  "metadata": {
    "kernelspec": {
      "display_name": "Python 3 (ipykernel)",
      "language": "python",
      "name": "python3"
    },
    "language_info": {
      "codemirror_mode": {
        "name": "ipython",
        "version": 3
      },
      "file_extension": ".py",
      "mimetype": "text/x-python",
      "name": "python",
      "nbconvert_exporter": "python",
      "pygments_lexer": "ipython3",
      "version": "3.11.4"
    },
    "colab": {
      "provenance": [],
      "include_colab_link": true
    }
  },
  "nbformat": 4,
  "nbformat_minor": 5
}