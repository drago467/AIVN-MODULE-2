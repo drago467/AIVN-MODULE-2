{
  "cells": [
    {
      "cell_type": "markdown",
      "metadata": {
        "id": "view-in-github",
        "colab_type": "text"
      },
      "source": [
        "<a href=\"https://colab.research.google.com/github/drago467/AIVN-MODULE-2/blob/main/Na%C3%AFve%20Bayes%20classifier%20(Classification)/2_Gaussian_Naive_Bayes_2D.ipynb\" target=\"_parent\"><img src=\"https://colab.research.google.com/assets/colab-badge.svg\" alt=\"Open In Colab\"/></a>"
      ]
    },
    {
      "cell_type": "markdown",
      "id": "6a705c99",
      "metadata": {
        "id": "6a705c99"
      },
      "source": [
        "## Gaussian Naive Bayes"
      ]
    },
    {
      "cell_type": "code",
      "execution_count": null,
      "id": "69e1e111",
      "metadata": {
        "id": "69e1e111"
      },
      "outputs": [],
      "source": [
        "from sklearn.metrics import confusion_matrix\n",
        "from sklearn.metrics import classification_report\n",
        "from sklearn.model_selection import train_test_split\n",
        "\n",
        "import pandas as pd\n",
        "\n",
        "iris = pd.read_csv('iris_2D.csv')\n",
        "\n",
        "# Seperating the data into dependent and independent variables\n",
        "X_train = iris.iloc[:, :-1].values\n",
        "y_train = iris.iloc[:, -1].values"
      ]
    },
    {
      "cell_type": "code",
      "execution_count": null,
      "id": "132298da",
      "metadata": {
        "id": "132298da",
        "outputId": "9420443e-2f27-4250-9bfc-f7786a7b02ea"
      },
      "outputs": [
        {
          "data": {
            "text/plain": [
              "array([4.9, 4.7, 4.6, 5. , 5.4, 4.6, 6.4, 6.9, 5.5, 6.5, 5.7, 6.3])"
            ]
          },
          "execution_count": 13,
          "metadata": {},
          "output_type": "execute_result"
        }
      ],
      "source": [
        "X_train[:,0]"
      ]
    },
    {
      "cell_type": "code",
      "execution_count": null,
      "id": "414d1825",
      "metadata": {
        "id": "414d1825",
        "outputId": "519cf3d7-52cb-4406-ea43-c49b6a70b0fe"
      },
      "outputs": [
        {
          "data": {
            "text/plain": [
              "array([3. , 3.2, 3.1, 3.6, 3.9, 3.4, 3.2, 3.1, 2.3, 2.8, 2.8, 3.3])"
            ]
          },
          "execution_count": 14,
          "metadata": {},
          "output_type": "execute_result"
        }
      ],
      "source": [
        "X_train[:,1]"
      ]
    },
    {
      "cell_type": "code",
      "execution_count": null,
      "id": "abdda8ad",
      "metadata": {
        "id": "abdda8ad",
        "outputId": "3e311193-ed78-4f6c-95be-21c0e343494d"
      },
      "outputs": [
        {
          "data": {
            "text/plain": [
              "array([0, 0, 0, 0, 0, 0, 1, 1, 1, 1, 1, 1], dtype=int64)"
            ]
          },
          "execution_count": 3,
          "metadata": {},
          "output_type": "execute_result"
        }
      ],
      "source": [
        "y_train"
      ]
    },
    {
      "cell_type": "code",
      "execution_count": null,
      "id": "016ef455",
      "metadata": {
        "id": "016ef455"
      },
      "outputs": [],
      "source": []
    },
    {
      "cell_type": "code",
      "execution_count": null,
      "id": "35da4b5d",
      "metadata": {
        "id": "35da4b5d"
      },
      "outputs": [],
      "source": [
        "from sklearn.naive_bayes import GaussianNB\n",
        "import numpy as np\n",
        "\n",
        "classifier = GaussianNB()\n",
        "clf = classifier.fit(X_train, y_train)"
      ]
    },
    {
      "cell_type": "code",
      "execution_count": null,
      "id": "1a061b50",
      "metadata": {
        "id": "1a061b50",
        "outputId": "9428163b-3140-4dbd-94dd-21874fa7ad73"
      },
      "outputs": [
        {
          "data": {
            "text/plain": [
              "array([[0.996191, 0.003809]])"
            ]
          },
          "execution_count": 7,
          "metadata": {},
          "output_type": "execute_result"
        }
      ],
      "source": [
        "# predict\n",
        "x_test = np.array([[4.1, 2.9]])\n",
        "clf.predict_proba(x_test)"
      ]
    },
    {
      "cell_type": "code",
      "execution_count": null,
      "id": "69080bb5",
      "metadata": {
        "id": "69080bb5"
      },
      "outputs": [],
      "source": []
    },
    {
      "cell_type": "code",
      "execution_count": null,
      "id": "e071f79b",
      "metadata": {
        "id": "e071f79b",
        "outputId": "cde68b19-282c-4540-ccde-da0fa46d44ac"
      },
      "outputs": [
        {
          "data": {
            "text/plain": [
              "array([0.5, 0.5])"
            ]
          },
          "execution_count": 9,
          "metadata": {},
          "output_type": "execute_result"
        }
      ],
      "source": [
        "clf.class_prior_"
      ]
    },
    {
      "cell_type": "code",
      "execution_count": null,
      "id": "dc5f3c68",
      "metadata": {
        "id": "dc5f3c68",
        "outputId": "8ccd8b11-21bd-443c-c539-1a4f6568d705"
      },
      "outputs": [
        {
          "data": {
            "text/plain": [
              "array([[0.07888889, 0.09555556],\n",
              "       [0.22805556, 0.11138889]])"
            ]
          },
          "execution_count": 11,
          "metadata": {},
          "output_type": "execute_result"
        }
      ],
      "source": [
        "clf.var_"
      ]
    },
    {
      "cell_type": "code",
      "execution_count": null,
      "id": "53dfcb0b",
      "metadata": {
        "id": "53dfcb0b",
        "outputId": "6ad14a09-6e07-4a01-9009-8db72ddda35b"
      },
      "outputs": [
        {
          "data": {
            "text/plain": [
              "array([[4.86666667, 3.36666667],\n",
              "       [6.21666667, 2.91666667]])"
            ]
          },
          "execution_count": 12,
          "metadata": {},
          "output_type": "execute_result"
        }
      ],
      "source": [
        "clf.theta_"
      ]
    },
    {
      "cell_type": "code",
      "execution_count": null,
      "id": "68d80665",
      "metadata": {
        "id": "68d80665"
      },
      "outputs": [],
      "source": []
    },
    {
      "cell_type": "markdown",
      "id": "4bf03db1",
      "metadata": {
        "id": "4bf03db1"
      },
      "source": [
        "## Compute manually"
      ]
    },
    {
      "cell_type": "code",
      "execution_count": null,
      "id": "68b060de",
      "metadata": {
        "id": "68b060de"
      },
      "outputs": [],
      "source": [
        "import math\n",
        "\n",
        "def gaussian_function(data, mean, var):\n",
        "    return (1.0/np.sqrt(2*math.pi*var)) * np.exp(-(data-mean)**2 / (2*var))"
      ]
    },
    {
      "cell_type": "code",
      "execution_count": null,
      "id": "9feff0bf",
      "metadata": {
        "id": "9feff0bf",
        "outputId": "4988d434-0738-4653-bd82-9b847f613627"
      },
      "outputs": [
        {
          "data": {
            "text/plain": [
              "array([[4.52805727e-05]])"
            ]
          },
          "execution_count": 20,
          "metadata": {},
          "output_type": "execute_result"
        }
      ],
      "source": [
        "gaussian_function(np.array([[4.1]]), 6.21666667, 0.22805556)"
      ]
    },
    {
      "cell_type": "code",
      "execution_count": null,
      "id": "4cd5d1ef",
      "metadata": {
        "id": "4cd5d1ef",
        "outputId": "38e7487f-d0a1-4776-834c-2b0b627084b5"
      },
      "outputs": [
        {
          "data": {
            "text/plain": [
              "array([[1.19384409]])"
            ]
          },
          "execution_count": 21,
          "metadata": {},
          "output_type": "execute_result"
        }
      ],
      "source": [
        "gaussian_function(np.array([[2.9]]), 2.91666667, 0.11138889)"
      ]
    },
    {
      "cell_type": "code",
      "execution_count": null,
      "id": "12187e30",
      "metadata": {
        "id": "12187e30",
        "outputId": "285f1e92-6136-47c7-8c6b-e93ba23f23e8"
      },
      "outputs": [
        {
          "data": {
            "text/plain": [
              "0.0070835"
            ]
          },
          "execution_count": 24,
          "metadata": {},
          "output_type": "execute_result"
        }
      ],
      "source": [
        "0.01412*0.5+0.000047*0.5"
      ]
    },
    {
      "cell_type": "code",
      "execution_count": null,
      "id": "beb2c6c7",
      "metadata": {
        "id": "beb2c6c7",
        "outputId": "613b344c-1c63-4d93-b911-0c2faacb30a9"
      },
      "outputs": [
        {
          "name": "stdout",
          "output_type": "stream",
          "text": [
            "1.52\n",
            "0.1416\n",
            "[1.00761742 0.40804972 0.893626   0.63670363 0.46995266]\n"
          ]
        }
      ],
      "source": [
        "# compute manually\n",
        "\n",
        "data_c0 = np.array([4.9, 4.7, 4.6, 5. , 5.4, 4.6])\n",
        "mean_c0 = data_c0.mean()\n",
        "var_c0  = data_c0.var()\n",
        "print(mean_c0)\n",
        "print(var_c0)\n",
        "\n",
        "prob_c0 = gaussian_function(data_c0, mean_c0, var_c0)\n",
        "print(prob_c0)"
      ]
    },
    {
      "cell_type": "code",
      "execution_count": null,
      "id": "a541039a",
      "metadata": {
        "id": "a541039a"
      },
      "outputs": [],
      "source": []
    },
    {
      "cell_type": "code",
      "execution_count": null,
      "id": "1cf07d38",
      "metadata": {
        "id": "1cf07d38",
        "outputId": "ad806fea-9325-40f0-e2bf-3cc2e18796e0"
      },
      "outputs": [
        {
          "name": "stdout",
          "output_type": "stream",
          "text": [
            "3.88\n",
            "0.07760000000000002\n",
            "[1.37426395 1.0484362  1.42843305 0.74034542 0.3245289 ]\n"
          ]
        }
      ],
      "source": [
        "data_c1 = np.array([3.8, 4.1, 3.9, 4.2, 3.4])\n",
        "mean_c1 = data_c1.mean()\n",
        "var_c1  = data_c1.var()\n",
        "print(mean_c1)\n",
        "print(var_c1)\n",
        "\n",
        "prob_c1 = gaussian_function(data_c1, mean_c1, var_c1)\n",
        "print(prob_c1)"
      ]
    },
    {
      "cell_type": "code",
      "execution_count": null,
      "id": "ad586b22",
      "metadata": {
        "id": "ad586b22"
      },
      "outputs": [],
      "source": []
    },
    {
      "cell_type": "code",
      "execution_count": null,
      "id": "6b484006",
      "metadata": {
        "id": "6b484006",
        "outputId": "3049fc7e-b3ba-4c41-c667-eecdc6c0a288"
      },
      "outputs": [
        {
          "name": "stdout",
          "output_type": "stream",
          "text": [
            "[[0.00046381]]\n",
            "[[0.00974954]]\n",
            "[[0.00510668]]\n",
            "[[0.0454125]]\n",
            "[[0.9545875]]\n"
          ]
        }
      ],
      "source": [
        "# predict manually\n",
        "\n",
        "x_test = np.array([[3.0]])\n",
        "dpf_c0_x = gaussian_function(x_test, mean_c0, var_c0)\n",
        "dpf_c1_x = gaussian_function(x_test, mean_c1, var_c1)\n",
        "print(dpf_c0_x)\n",
        "print(dpf_c1_x)\n",
        "\n",
        "# normalize\n",
        "total = dpf_c0_x*0.5 + dpf_c1_x*0.5\n",
        "print(total)\n",
        "dpf_c0_x = dpf_c0_x*0.5/total\n",
        "dpf_c1_x = dpf_c1_x*0.5/total\n",
        "\n",
        "# print\n",
        "print(dpf_c0_x)\n",
        "print(dpf_c1_x)"
      ]
    },
    {
      "cell_type": "code",
      "execution_count": null,
      "id": "0758e751",
      "metadata": {
        "id": "0758e751"
      },
      "outputs": [],
      "source": []
    }
  ],
  "metadata": {
    "kernelspec": {
      "display_name": "Python 3 (ipykernel)",
      "language": "python",
      "name": "python3"
    },
    "language_info": {
      "codemirror_mode": {
        "name": "ipython",
        "version": 3
      },
      "file_extension": ".py",
      "mimetype": "text/x-python",
      "name": "python",
      "nbconvert_exporter": "python",
      "pygments_lexer": "ipython3",
      "version": "3.11.4"
    },
    "colab": {
      "provenance": [],
      "include_colab_link": true
    }
  },
  "nbformat": 4,
  "nbformat_minor": 5
}