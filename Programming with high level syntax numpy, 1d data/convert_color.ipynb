{
  "cells": [
    {
      "cell_type": "markdown",
      "metadata": {
        "id": "view-in-github",
        "colab_type": "text"
      },
      "source": [
        "<a href=\"https://colab.research.google.com/github/drago467/AIVN-MODULE-2/blob/main/Programming%20with%20high%20level%20syntax%20numpy%2C%201d%20data/convert_color.ipynb\" target=\"_parent\"><img src=\"https://colab.research.google.com/assets/colab-badge.svg\" alt=\"Open In Colab\"/></a>"
      ]
    },
    {
      "cell_type": "markdown",
      "metadata": {
        "id": "aLQ9Jihqje3f"
      },
      "source": [
        "### apply_along_axis"
      ]
    },
    {
      "cell_type": "code",
      "execution_count": null,
      "metadata": {
        "id": "oAbef_2aje3h",
        "outputId": "616860b1-eb1d-4d4e-da8d-b0140a1b323b"
      },
      "outputs": [
        {
          "name": "stdout",
          "output_type": "stream",
          "text": [
            "[[0 1 2]\n",
            " [3 4 5]\n",
            " [6 7 8]]\n"
          ]
        }
      ],
      "source": [
        "import numpy as np\n",
        "\n",
        "data = np.arange(9).reshape((3,3))\n",
        "print(data)"
      ]
    },
    {
      "cell_type": "code",
      "execution_count": null,
      "metadata": {
        "id": "gldagXbBje3i",
        "outputId": "21217d36-cb39-4308-85d4-29aebbeb6fb9"
      },
      "outputs": [
        {
          "name": "stdout",
          "output_type": "stream",
          "text": [
            "[6 7 8]\n"
          ]
        }
      ],
      "source": [
        "result0 = np.apply_along_axis(np.max, arr=data, axis=0)\n",
        "print(result0)"
      ]
    },
    {
      "cell_type": "code",
      "execution_count": null,
      "metadata": {
        "id": "6Eevt45eje3i",
        "outputId": "b3e751f8-c471-4970-d0bf-061fbbbd6c9a"
      },
      "outputs": [
        {
          "name": "stdout",
          "output_type": "stream",
          "text": [
            "[2 5 8]\n"
          ]
        }
      ],
      "source": [
        "result1 = np.apply_along_axis(np.max, arr=data, axis=1)\n",
        "print(result1)"
      ]
    },
    {
      "cell_type": "code",
      "execution_count": null,
      "metadata": {
        "id": "htdYgBbJje3j"
      },
      "outputs": [],
      "source": []
    },
    {
      "cell_type": "code",
      "execution_count": null,
      "metadata": {
        "id": "ZkVKMCvmje3j",
        "outputId": "58344d68-074f-457c-8452-007b8d89dcb0"
      },
      "outputs": [
        {
          "name": "stdout",
          "output_type": "stream",
          "text": [
            "[[0 1 2]\n",
            " [3 4 5]\n",
            " [6 7 8]]\n",
            "[ 9 12 15]\n",
            "[ 3 12 21]\n"
          ]
        }
      ],
      "source": [
        "import numpy as np\n",
        "\n",
        "def my_sum(vector):\n",
        "    return vector.sum()\n",
        "\n",
        "data = np.arange(9).reshape((3,3))\n",
        "print(data)\n",
        "\n",
        "result0 = np.apply_along_axis(my_sum,\n",
        "                              arr=data, axis=0)\n",
        "print(result0)\n",
        "\n",
        "result1 = np.apply_along_axis(my_sum,\n",
        "                              arr=data, axis=1)\n",
        "print(result1)"
      ]
    },
    {
      "cell_type": "code",
      "execution_count": null,
      "metadata": {
        "id": "i308oNhqje3j"
      },
      "outputs": [],
      "source": []
    },
    {
      "cell_type": "markdown",
      "metadata": {
        "id": "5k_SHNe7je3j"
      },
      "source": [
        "### For Images"
      ]
    },
    {
      "cell_type": "code",
      "execution_count": null,
      "metadata": {
        "id": "e_u1VCz-je3k",
        "outputId": "34d78b58-2871-41c7-919b-0220ff878d42"
      },
      "outputs": [
        {
          "data": {
            "text/plain": [
              "True"
            ]
          },
          "execution_count": 1,
          "metadata": {},
          "output_type": "execute_result"
        }
      ],
      "source": [
        "# way 1\n",
        "\n",
        "import cv2\n",
        "import numpy as np\n",
        "\n",
        "# Read the image\n",
        "image = cv2.imread('image_color.png', 1)\n",
        "\n",
        "def color2grayscale(vector):\n",
        "    return vector[0]*0.3 + vector[1]*0.59 + vector[2]*0.11\n",
        "\n",
        "# Convert\n",
        "grayscale_image = np.apply_along_axis(color2grayscale, axis=2, arr=image)\n",
        "\n",
        "# Save the grayscale image\n",
        "cv2.imwrite('output1.png', grayscale_image)\n"
      ]
    },
    {
      "cell_type": "code",
      "execution_count": null,
      "metadata": {
        "id": "rMFibKnUje3k"
      },
      "outputs": [],
      "source": []
    },
    {
      "cell_type": "code",
      "execution_count": null,
      "metadata": {
        "id": "JwWs1TsIje3k",
        "outputId": "281bbcc0-7665-472f-bd08-ef92c9717ee0"
      },
      "outputs": [
        {
          "data": {
            "text/plain": [
              "True"
            ]
          },
          "execution_count": 1,
          "metadata": {},
          "output_type": "execute_result"
        }
      ],
      "source": [
        "# way 2\n",
        "\n",
        "import cv2\n",
        "import numpy as np\n",
        "\n",
        "# Read the image\n",
        "image = cv2.imread('image_color.png', 1)\n",
        "\n",
        "def color2grayscale(vector):\n",
        "    return vector[0]*0.33 + vector[1]*0.33 + vector[2]*0.34\n",
        "\n",
        "# Convert to grayscale\n",
        "grayscale_image = np.apply_along_axis(color2grayscale,\n",
        "                                      axis=2,\n",
        "                                      arr=image)\n",
        "\n",
        "# Save the grayscale image\n",
        "cv2.imwrite('output2.png', grayscale_image)\n"
      ]
    },
    {
      "cell_type": "code",
      "execution_count": null,
      "metadata": {
        "id": "uqXEIo3eje3k"
      },
      "outputs": [],
      "source": []
    },
    {
      "cell_type": "code",
      "execution_count": null,
      "metadata": {
        "id": "2RFbYJoEje3k",
        "outputId": "4c1bdc0e-837c-47c7-cd02-b5d55991a93a"
      },
      "outputs": [
        {
          "data": {
            "text/plain": [
              "True"
            ]
          },
          "execution_count": 2,
          "metadata": {},
          "output_type": "execute_result"
        }
      ],
      "source": [
        "# way 3\n",
        "\n",
        "import cv2\n",
        "import numpy as np\n",
        "\n",
        "# Read the image\n",
        "image = cv2.imread('image_color.png', 1)\n",
        "\n",
        "def color2grayscale(vector):\n",
        "    result = vector.mean()\n",
        "    result = result.astype(np.uint8)\n",
        "    return result\n",
        "\n",
        "# Convert\n",
        "grayscale_image = np.apply_along_axis(color2grayscale,\n",
        "                                      axis=2,\n",
        "                                      arr=image)\n",
        "\n",
        "# Save the grayscale image\n",
        "cv2.imwrite('output3.png', grayscale_image)\n"
      ]
    },
    {
      "cell_type": "code",
      "execution_count": null,
      "metadata": {
        "id": "97qkcuZrje3l"
      },
      "outputs": [],
      "source": []
    }
  ],
  "metadata": {
    "kernelspec": {
      "display_name": "Python 3 (ipykernel)",
      "language": "python",
      "name": "python3"
    },
    "language_info": {
      "codemirror_mode": {
        "name": "ipython",
        "version": 3
      },
      "file_extension": ".py",
      "mimetype": "text/x-python",
      "name": "python",
      "nbconvert_exporter": "python",
      "pygments_lexer": "ipython3",
      "version": "3.12.4"
    },
    "colab": {
      "provenance": [],
      "include_colab_link": true
    }
  },
  "nbformat": 4,
  "nbformat_minor": 0
}