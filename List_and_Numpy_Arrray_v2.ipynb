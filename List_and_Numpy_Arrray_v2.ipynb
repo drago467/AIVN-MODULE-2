{
  "nbformat": 4,
  "nbformat_minor": 0,
  "metadata": {
    "colab": {
      "provenance": [],
      "include_colab_link": true
    },
    "kernelspec": {
      "name": "python3",
      "display_name": "Python 3"
    },
    "language_info": {
      "name": "python"
    }
  },
  "cells": [
    {
      "cell_type": "markdown",
      "metadata": {
        "id": "view-in-github",
        "colab_type": "text"
      },
      "source": [
        "<a href=\"https://colab.research.google.com/github/drago467/AIVN-MODULE-2/blob/main/List_and_Numpy_Arrray_v2.ipynb\" target=\"_parent\"><img src=\"https://colab.research.google.com/assets/colab-badge.svg\" alt=\"Open In Colab\"/></a>"
      ]
    },
    {
      "cell_type": "code",
      "source": [
        "# importing required packages\n",
        "import numpy\n",
        "import time\n",
        "\n",
        "\n",
        "def multiplizeList(size=1000):\n",
        "  # declaring lists\n",
        "  list1 = list(range(size))\n",
        "  list2 = list(range(size))\n",
        "\n",
        "  # capturing time before the multiplication of Python lists\n",
        "  initialTime = time.time()\n",
        "\n",
        "  # multiplying elements of both the lists and stored in another list\n",
        "  resultantList = [(a * b) for a, b in zip(list1, list2)]\n",
        "\n",
        "  # calculating execution time\n",
        "  print(\"Time taken by Lists to perform multiplication:\",\n",
        "    (time.time() - initialTime),\n",
        "    \"seconds\")\n",
        "\n",
        "\n",
        "\n",
        "def multiplizeArray(size=1000):\n",
        "  # declaring arrays\n",
        "  array1 = numpy.arange(size)\n",
        "  array2 = numpy.arange(size)\n",
        "\n",
        "  # capturing time before the multiplication of Numpy arrays\n",
        "  initialTime = time.time()\n",
        "\n",
        "# multiplying elements of both the Numpy arrays and stored in another Numpy array\n",
        "  resultantArray = array1 * array2\n",
        "\n",
        "# calculating execution time\n",
        "  print(\"Time taken by NumPy Arrays to perform multiplication:\",\n",
        "    (time.time() - initialTime),\n",
        "    \"seconds\")\n"
      ],
      "metadata": {
        "id": "cNf3OjFtv71D"
      },
      "execution_count": null,
      "outputs": []
    },
    {
      "cell_type": "code",
      "source": [
        "def computeIoU(boxA, boxB):\n",
        "\t# determine the (x, y)-coordinates of the intersection rectangle\n",
        "\txA = max(boxA[0], boxB[0])\n",
        "\tyA = max(boxA[1], boxB[1])\n",
        "\txB = min(boxA[2], boxB[2])\n",
        "\tyB = min(boxA[3], boxB[3])\n",
        "\n",
        "\tinterArea = max(0, xB - xA + 1) * max(0, yB - yA + 1)\n",
        "\t# print(\"interArea\", interArea)\n",
        "\n",
        "\t# compute the area of both the prediction and ground-truth\n",
        "\t# rectangles\n",
        "\tboxAArea = (boxA[2] - boxA[0] + 1) * (boxA[3] - boxA[1] + 1)\n",
        "\tboxBArea = (boxB[2] - boxB[0] + 1) * (boxB[3] - boxB[1] + 1)\n",
        "\t# compute the intersection over union by taking the intersection\n",
        "\t# area and dividing it by the sum of prediction + ground-truth\n",
        "\t# areas - the interesection area\n",
        "\tiou = interArea / float(boxAArea + boxBArea - interArea)\n",
        "\t# return the intersection over union value\n",
        "\treturn iou"
      ],
      "metadata": {
        "id": "hioxvgwTOfEM"
      },
      "execution_count": null,
      "outputs": []
    },
    {
      "cell_type": "code",
      "source": [
        "# Example usage\n",
        "boxes = []\n",
        "for i in range(10000):\n",
        "  boxes.append([i+1, i+1, i+1, i+1])\n",
        "\n",
        "initialTime = time.time()\n",
        "\n",
        "for i in range(1, len(boxes)):\n",
        "  iou = computeIoU(boxes[0],boxes[i])\n",
        "  # print(\"iou\", iou)\n",
        "\n",
        "\n",
        "# calculating execution time\n",
        "print(\"Time taken by NumPy Arrays to perform multiplication:\",\n",
        "    (time.time() - initialTime),\n",
        "    \"seconds\")"
      ],
      "metadata": {
        "colab": {
          "base_uri": "https://localhost:8080/"
        },
        "id": "0jnNjPicNLlR",
        "outputId": "93ca5bc1-81ca-4ab0-98dc-1544bba94a71"
      },
      "execution_count": null,
      "outputs": [
        {
          "output_type": "stream",
          "name": "stdout",
          "text": [
            "Time taken by NumPy Arrays to perform multiplication: 0.023508548736572266 seconds\n"
          ]
        }
      ]
    },
    {
      "cell_type": "code",
      "source": [
        "# Array solution\n",
        "initialTime = time.time()\n",
        "boxes = np.array(boxes)\n",
        "scores = np.array(scores)\n",
        "# Coordinates of bounding boxes\n",
        "x1 = boxes[:, 0]\n",
        "y1 = boxes[:, 1]\n",
        "x2 = boxes[:, 2]\n",
        "y2 = boxes[:, 3]\n",
        "\n",
        "# Compute the area of the bounding boxes\n",
        "areas = (x2 - x1 + 1) * (y2 - y1 + 1)\n",
        "\n",
        "# Compute the intersection areas\n",
        "xx1 = np.maximum(x1[0], x1[1:])\n",
        "yy1 = np.maximum(y1[0], y1[1:])\n",
        "xx2 = np.minimum(x2[0], x2[1:])\n",
        "yy2 = np.minimum(y2[0], y2[1:])\n",
        "\n",
        "w = np.maximum(0, xx2 - xx1 + 1)\n",
        "h = np.maximum(0, yy2 - yy1 + 1)\n",
        "\n",
        "inter = w * h\n",
        "\n",
        "# # Compute the IoU\n",
        "iou = inter / (areas[0] + areas[1:] - inter)\n",
        "# print(iou)\n",
        "\n",
        "print(\"Time taken by NumPy Arrays to perform multiplication:\",\n",
        "    (time.time() - initialTime),\n",
        "    \"seconds\")"
      ],
      "metadata": {
        "colab": {
          "base_uri": "https://localhost:8080/"
        },
        "id": "i4gR7NTKQTJC",
        "outputId": "9f79eb3c-b3f4-4d3f-cf5e-b404a5348417"
      },
      "execution_count": null,
      "outputs": [
        {
          "output_type": "stream",
          "name": "stdout",
          "text": [
            "Time taken by NumPy Arrays to perform multiplication: 0.008990049362182617 seconds\n"
          ]
        }
      ]
    },
    {
      "cell_type": "code",
      "source": [
        "multiplizeList(100000)\n",
        "multiplizeArray(100000)"
      ],
      "metadata": {
        "colab": {
          "base_uri": "https://localhost:8080/"
        },
        "id": "xUC0WfVnwPCt",
        "outputId": "51498e41-bfc0-4803-8d21-42ad80863e2b"
      },
      "execution_count": null,
      "outputs": [
        {
          "output_type": "stream",
          "name": "stdout",
          "text": [
            "Time taken by Lists to perform multiplication: 0.010344743728637695 seconds\n",
            "100000\n",
            "Time taken by NumPy Arrays to perform multiplication: 0.0006392002105712891 seconds\n"
          ]
        }
      ]
    },
    {
      "cell_type": "code",
      "source": [
        "# List solution\n",
        "def compute_iou(box1, box2):\n",
        "        x1_1, y1_1, x2_1, y2_1 = box1\n",
        "        x1_2, y1_2, x2_2, y2_2 = box2\n",
        "\n",
        "        # Compute the coordinates of the intersection rectangle\n",
        "        xx1 = max(x1_1, x1_2)\n",
        "        yy1 = max(y1_1, y1_2)\n",
        "        xx2 = min(x2_1, x2_2)\n",
        "        yy2 = min(y2_1, y2_2)\n",
        "\n",
        "        # Compute the width and height of the intersection rectangle\n",
        "        w = max(0, xx2 - xx1 + 1)\n",
        "        h = max(0, yy2 - yy1 + 1)\n",
        "\n",
        "        # Compute the area of the intersection rectangle\n",
        "        inter_area = w * h\n",
        "\n",
        "        # Compute the area of both bounding boxes\n",
        "        box1_area = (x2_1 - x1_1 + 1) * (y2_1 - y1_1 + 1)\n",
        "        box2_area = (x2_2 - x1_2 + 1) * (y2_2 - y1_2 + 1)\n",
        "\n",
        "        # Compute the Intersection over Union (IoU)\n",
        "        iou = inter_area / float(box1_area + box2_area - inter_area)\n",
        "\n",
        "        return iou\n",
        "\n",
        "# Refine for class\n",
        "def non_max_suppression(boxes, scores, iou_threshold):\n",
        "\n",
        "\n",
        "    # Sort the boxes by scores in descending order\n",
        "    sorted_indices = sorted(range(len(scores)), key=lambda k: scores[k], reverse=True)\n",
        "\n",
        "    keep = []  # List to store the indices of boxes to keep\n",
        "\n",
        "    while sorted_indices:\n",
        "        i = sorted_indices.pop(0)  # Index of the current highest score box\n",
        "        keep.append(i)\n",
        "        # print(\"sorted_indices\", sorted_indices)\n",
        "        filtered_indices = []\n",
        "        for j in sorted_indices:\n",
        "            iou = compute_iou(boxes[i], boxes[j])\n",
        "            if iou <= iou_threshold:\n",
        "                filtered_indices.append(j)\n",
        "\n",
        "        sorted_indices = filtered_indices\n",
        "\n",
        "    return keep\n",
        "\n",
        "# Example usage\n",
        "# boxes = [\n",
        "#     [12, 84, 140, 212],\n",
        "#     [24, 84, 152, 212],\n",
        "#     [36, 84, 164, 212],\n",
        "#     [12, 96, 140, 224],\n",
        "#     [24, 96, 152, 224]\n",
        "# ]\n",
        "\n",
        "# scores = [0.3, 0.4, 0.5, 0.6, 0.7]\n",
        "# iou_threshold = 0.3\n",
        "\n",
        "boxes = np.array([\n",
        "    [100, 100, 210, 210],\n",
        "    [105, 105, 215, 215],\n",
        "    [150, 150, 250, 250]\n",
        "])\n",
        "\n",
        "scores = np.array([0.9, 0.8, 0.7])\n",
        "threshold = 0.5\n",
        "\n",
        "\n",
        "kept_indices = non_max_suppression(boxes, scores, iou_threshold)\n",
        "kept_boxes = [boxes[i] for i in kept_indices]\n",
        "\n",
        "print(\"Kept indices:\", kept_indices)\n",
        "print(\"Kept boxes:\", kept_boxes)\n"
      ],
      "metadata": {
        "colab": {
          "base_uri": "https://localhost:8080/"
        },
        "id": "NoWS5F3bxhyQ",
        "outputId": "c6271a03-0463-4415-9fd6-a7bdacda30cb"
      },
      "execution_count": null,
      "outputs": [
        {
          "output_type": "stream",
          "name": "stdout",
          "text": [
            "Kept indices: [0, 2]\n",
            "Kept boxes: [array([100, 100, 210, 210]), array([150, 150, 250, 250])]\n"
          ]
        }
      ]
    },
    {
      "cell_type": "code",
      "source": [
        "import numpy as np\n",
        "\n",
        "def non_max_suppression(boxes, scores, threshold):\n",
        "    \"\"\"\n",
        "    Perform non-maximum suppression.\n",
        "\n",
        "    Parameters:\n",
        "    boxes (numpy.ndarray): Array of bounding boxes, each defined by [x1, y1, x2, y2].\n",
        "    scores (numpy.ndarray): Array of confidence scores for each bounding box.\n",
        "    threshold (float): Overlap threshold for suppression.\n",
        "\n",
        "    Returns:\n",
        "    numpy.ndarray: Indices of bounding boxes to keep.\n",
        "    \"\"\"\n",
        "    if len(boxes) == 0:\n",
        "        return []\n",
        "\n",
        "    # Coordinates of bounding boxes\n",
        "    x1 = boxes[:, 0]\n",
        "    y1 = boxes[:, 1]\n",
        "    x2 = boxes[:, 2]\n",
        "    y2 = boxes[:, 3]\n",
        "\n",
        "    # Compute area of bounding boxes\n",
        "    areas = (x2 - x1 + 1) * (y2 - y1 + 1)\n",
        "\n",
        "    # Sort by scores\n",
        "    order = scores.argsort()[::-1]\n",
        "\n",
        "    keep = []\n",
        "    while order.size > 0:\n",
        "        i = order[0]\n",
        "        keep.append(i)\n",
        "\n",
        "        # Compute IoU (Intersection over Union)\n",
        "        xx1 = np.maximum(x1[i], x1[order[1:]])\n",
        "        yy1 = np.maximum(y1[i], y1[order[1:]])\n",
        "        xx2 = np.minimum(x2[i], x2[order[1:]])\n",
        "        yy2 = np.minimum(y2[i], y2[order[1:]])\n",
        "\n",
        "        w = np.maximum(0, xx2 - xx1 + 1)\n",
        "        h = np.maximum(0, yy2 - yy1 + 1)\n",
        "\n",
        "        intersection = w * h\n",
        "        iou = intersection / (areas[i] + areas[order[1:]] - intersection)\n",
        "\n",
        "        # Suppress bounding boxes with IoU over the threshold\n",
        "        inds = np.where(iou <= threshold)[0]\n",
        "        order = order[inds + 1]\n",
        "\n",
        "    return keep\n",
        "\n",
        "# Example usage\n",
        "boxes = np.array([\n",
        "    [100, 100, 210, 210],\n",
        "    [105, 105, 215, 215],\n",
        "    [150, 150, 250, 250]\n",
        "])\n",
        "\n",
        "scores = np.array([0.9, 0.8, 0.7])\n",
        "threshold = 0.5\n",
        "\n",
        "keep_indices = non_max_suppression(boxes, scores, threshold)\n",
        "kept_boxes = boxes[keep_indices]\n",
        "\n",
        "print(\"Indices of boxes to keep:\", keep_indices)\n",
        "print(\"Boxes to keep:\")\n",
        "print(kept_boxes)\n"
      ],
      "metadata": {
        "colab": {
          "base_uri": "https://localhost:8080/"
        },
        "id": "PwHGl3H00F-G",
        "outputId": "2e8a9b67-0b61-4c89-ab57-ba17502d7014"
      },
      "execution_count": null,
      "outputs": [
        {
          "output_type": "stream",
          "name": "stdout",
          "text": [
            "Indices of boxes to keep: [0, 2]\n",
            "Boxes to keep:\n",
            "[[100 100 210 210]\n",
            " [150 150 250 250]]\n"
          ]
        }
      ]
    },
    {
      "cell_type": "code",
      "source": [
        "import numpy as np\n",
        "\n",
        "original_array = np.arange(11)\n",
        "\n",
        "original_array = original_array.reshape((3, 4))\n",
        "\n",
        "print(original_array.shape)\n"
      ],
      "metadata": {
        "colab": {
          "base_uri": "https://localhost:8080/"
        },
        "id": "YhIrgofYb3a3",
        "outputId": "142acede-675b-4440-c802-cec93bcf5f2b"
      },
      "execution_count": null,
      "outputs": [
        {
          "output_type": "stream",
          "name": "stdout",
          "text": [
            "(3, 4)\n"
          ]
        }
      ]
    },
    {
      "cell_type": "code",
      "source": [
        "import numpy as np\n",
        "\n",
        "# Create a 2D array\n",
        "array = np.array([[1, 2, 3],\n",
        "                  [4, 5, 6],\n",
        "                  [7, 8, 9]])\n",
        "\n",
        "# Sum across columns\n",
        "column_sum = np.sum(array, axis=0)\n",
        "\n",
        "print(\"Array:\")\n",
        "print(array)\n",
        "print(\"\\nSum across columns:\", column_sum)\n"
      ],
      "metadata": {
        "colab": {
          "base_uri": "https://localhost:8080/"
        },
        "id": "zcLQtVOvhP_a",
        "outputId": "fd71c97c-6f52-4179-ee16-aee3f122efc9"
      },
      "execution_count": null,
      "outputs": [
        {
          "output_type": "stream",
          "name": "stdout",
          "text": [
            "Array:\n",
            "[[1 2 3]\n",
            " [4 5 6]\n",
            " [7 8 9]]\n",
            "\n",
            "Sum across columns: [12 15 18]\n"
          ]
        }
      ]
    },
    {
      "cell_type": "code",
      "source": [
        "import numpy as np\n",
        "\n",
        "# Create a 2D array\n",
        "array = np.array([[1, 2, 3],\n",
        "                  [4, 5, 6],\n",
        "                  [7, 8, 9]])\n",
        "\n",
        "filtered_elements = array[(array > 2) & (array < 5)]\n",
        "\n",
        "filtered_elements = filtered_elements[::-1]\n",
        "\n",
        "print(filtered_elements)\n"
      ],
      "metadata": {
        "colab": {
          "base_uri": "https://localhost:8080/"
        },
        "id": "y2trRJOukWvg",
        "outputId": "2b705dd5-ca66-4e95-ed0c-8ef2d9338647"
      },
      "execution_count": null,
      "outputs": [
        {
          "output_type": "stream",
          "name": "stdout",
          "text": [
            "[4 3]\n"
          ]
        }
      ]
    },
    {
      "cell_type": "code",
      "source": [
        "import numpy as np\n",
        "\n",
        "# Create a 2D array\n",
        "original_array = np.array([[1, 2, 3],\n",
        "                           [4, 5, 6],\n",
        "                           [7, 8, 9]])\n",
        "\n",
        "reshaped_array = original_array.reshape(-1)\n",
        "\n",
        "print(\"Original array (2D):\")\n",
        "print(original_array)\n",
        "print(\"\\nReshaped array (1D):\")\n",
        "print(reshaped_array)\n"
      ],
      "metadata": {
        "colab": {
          "base_uri": "https://localhost:8080/"
        },
        "id": "lFT_lgpzlOhd",
        "outputId": "e05c7fae-1478-420c-de7e-19113d2c42c2"
      },
      "execution_count": null,
      "outputs": [
        {
          "output_type": "stream",
          "name": "stdout",
          "text": [
            "Original array (2D):\n",
            "[[1 2 3]\n",
            " [4 5 6]\n",
            " [7 8 9]]\n",
            "\n",
            "Reshaped array (1D):\n",
            "[1 2 3 4 5 6 7 8 9]\n"
          ]
        }
      ]
    },
    {
      "cell_type": "code",
      "source": [
        "import numpy as np\n",
        "\n",
        "# Create a 1D array\n",
        "array1 = np.array([1, 2, 3])\n",
        "\n",
        "# Create a 2D array\n",
        "array2 = np.array([[4, 5, 6],\n",
        "                   [7, 8, 9]])\n",
        "\n",
        "result = array1 + array2\n",
        "\n",
        "print(result)\n"
      ],
      "metadata": {
        "colab": {
          "base_uri": "https://localhost:8080/"
        },
        "id": "bdo6Iu_fnzeb",
        "outputId": "4b034da0-1e79-40e6-950c-75ccee513eee"
      },
      "execution_count": null,
      "outputs": [
        {
          "output_type": "stream",
          "name": "stdout",
          "text": [
            "[[ 5  7  9]\n",
            " [ 8 10 12]]\n"
          ]
        }
      ]
    },
    {
      "cell_type": "code",
      "source": [
        "np.array([1, 2, 3]) + np.array([[1], [2], [3]])"
      ],
      "metadata": {
        "colab": {
          "base_uri": "https://localhost:8080/"
        },
        "id": "QHtC9sbGvISO",
        "outputId": "e0f73530-cb39-4041-8c47-7155f690376f"
      },
      "execution_count": null,
      "outputs": [
        {
          "output_type": "execute_result",
          "data": {
            "text/plain": [
              "array([[2, 3, 4],\n",
              "       [3, 4, 5],\n",
              "       [4, 5, 6]])"
            ]
          },
          "metadata": {},
          "execution_count": 25
        }
      ]
    }
  ]
}